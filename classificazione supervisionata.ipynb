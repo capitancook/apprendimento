{
 "cells": [
  {
   "cell_type": "markdown",
   "metadata": {},
   "source": [
    "# Classificazione \n",
    "\n",
    "## binaria \n",
    "\n",
    "Prima di tutto importiamo le libreria che ci servono.\n",
    "Da notare l'uso della funzione make_blobs dalla libreria sklearn acikit-learn \n",
    "https://scikit-learn.org/stable/\n",
    "Si tratta di una delle librerie Python per machine learning più famose e usate."
   ]
  },
  {
   "cell_type": "code",
   "execution_count": 1,
   "metadata": {},
   "outputs": [],
   "source": [
    "from numpy import where\n",
    "from sklearn.datasets import make_blobs"
   ]
  },
  {
   "cell_type": "markdown",
   "metadata": {},
   "source": [
    "Creiamo un data set di 1000 campioni con 2 blob di dati.\n"
   ]
  },
  {
   "cell_type": "code",
   "execution_count": 15,
   "metadata": {},
   "outputs": [],
   "source": [
    "\n",
    "# define dataset\n",
    "X, y = make_blobs(n_samples=1000, centers=[[2,2], [7,7]], random_state=1)\n"
   ]
  },
  {
   "cell_type": "markdown",
   "metadata": {},
   "source": [
    "Il campione è composto da 2 caratteristiche (X array bidimensionale di 1000 righe e 2 colonne x1 e x2) e una etichetta y  che può essere 0 o 1 (es. maschio o femmina)"
   ]
  },
  {
   "cell_type": "code",
   "execution_count": 16,
   "metadata": {},
   "outputs": [
    {
     "name": "stdout",
     "output_type": "stream",
     "text": [
      "(1000, 2) (1000,)\n"
     ]
    },
    {
     "data": {
      "text/plain": [
       "array([[1.72415394, 3.22895559],\n",
       "       [2.16466507, 2.77817418],\n",
       "       [7.51441156, 6.98274913],\n",
       "       ...,\n",
       "       [0.92703572, 2.49515861],\n",
       "       [2.28558733, 2.88514116],\n",
       "       [3.27375593, 3.96710175]])"
      ]
     },
     "execution_count": 16,
     "metadata": {},
     "output_type": "execute_result"
    }
   ],
   "source": [
    "print(X.shape, y.shape)\n",
    "X"
   ]
  },
  {
   "cell_type": "markdown",
   "metadata": {},
   "source": [
    "Le prime 10 osservazioni del nostro campione sono le seguenti:"
   ]
  },
  {
   "cell_type": "code",
   "execution_count": 17,
   "metadata": {},
   "outputs": [
    {
     "name": "stdout",
     "output_type": "stream",
     "text": [
      "[1.72415394 3.22895559] 0\n",
      "[2.16466507 2.77817418] 0\n",
      "[7.51441156 6.98274913] 1\n",
      "[1.49102772 1.83351405] 0\n",
      "[6.0386362  5.57298437] 1\n",
      "[5.61044976 7.83428321] 1\n",
      "[5.69202866 8.47239631] 1\n",
      "[6.14017298 6.56209179] 1\n",
      "[5.97620068 7.56776474] 1\n",
      "[8.27980017 6.54824406] 1\n"
     ]
    }
   ],
   "source": [
    "for i in range(10):\n",
    "\tprint(X[i], y[i])"
   ]
  },
  {
   "cell_type": "markdown",
   "metadata": {},
   "source": [
    "Adesso possiamo vedere un grafico del campione generato usando la classe pyplot della libreria matplotlib"
   ]
  },
  {
   "cell_type": "code",
   "execution_count": 18,
   "metadata": {},
   "outputs": [
    {
     "data": {
      "image/png": "[encoded data removed]",
      "text/plain": [
       "<Figure size 432x288 with 1 Axes>"
      ]
     },
     "metadata": {
      "needs_background": "light"
     },
     "output_type": "display_data"
    }
   ],
   "source": [
    "c=[(0, 500), (1, 500)]\n",
    "from matplotlib import pyplot\n",
    "# grafica il dataset assegnando il colore del generico punto in base alla sua classe di appartenenza (=valore di y)\n",
    "for label, _ in c:\n",
    "\trow_ix = where(y == label)[0]\n",
    "\tpyplot.scatter(X[row_ix, 0], X[row_ix, 1], label=str(label))\n",
    "pyplot.legend()\n",
    "pyplot.show()"
   ]
  }
 ],
 "metadata": {
  "kernelspec": {
   "display_name": "Python 3.9.5 64-bit",
   "language": "python",
   "name": "python3"
  },
  "language_info": {
   "codemirror_mode": {
    "name": "ipython",
    "version": 3
   },
   "file_extension": ".py",
   "mimetype": "text/x-python",
   "name": "python",
   "nbconvert_exporter": "python",
   "pygments_lexer": "ipython3",
   "version": "3.9.5"
  },
  "orig_nbformat": 4,
  "vscode": {
   "interpreter": {
    "hash": "81794d4967e6c3204c66dcd87b604927b115b27c00565d3d43f05ba2f3a2cb0d"
   }
  }
 },
 "nbformat": 4,
 "nbformat_minor": 2
}
